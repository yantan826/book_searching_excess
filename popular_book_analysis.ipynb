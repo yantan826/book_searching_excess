{
 "cells": [
  {
   "cell_type": "code",
   "execution_count": 17,
   "metadata": {},
   "outputs": [],
   "source": [
    "import pandas as pd \n",
    "from difflib import SequenceMatcher\n",
    "\n"
   ]
  },
  {
   "cell_type": "code",
   "execution_count": 18,
   "metadata": {},
   "outputs": [],
   "source": [
    "df = pd.read_csv('data/books.csv')"
   ]
  },
  {
   "cell_type": "code",
   "execution_count": 19,
   "metadata": {},
   "outputs": [
    {
     "data": {
      "text/plain": [
       "Index(['title', 'link', 'author', 'usual_price', 'now_price', 'member_price',\n",
       "       'extracted_at', 'search_term'],\n",
       "      dtype='object')"
      ]
     },
     "execution_count": 19,
     "metadata": {},
     "output_type": "execute_result"
    }
   ],
   "source": [
    "df.columns"
   ]
  },
  {
   "cell_type": "code",
   "execution_count": 20,
   "metadata": {},
   "outputs": [
    {
     "data": {
      "text/html": [
       "<div>\n",
       "<style scoped>\n",
       "    .dataframe tbody tr th:only-of-type {\n",
       "        vertical-align: middle;\n",
       "    }\n",
       "\n",
       "    .dataframe tbody tr th {\n",
       "        vertical-align: top;\n",
       "    }\n",
       "\n",
       "    .dataframe thead th {\n",
       "        text-align: right;\n",
       "    }\n",
       "</style>\n",
       "<table border=\"1\" class=\"dataframe\">\n",
       "  <thead>\n",
       "    <tr style=\"text-align: right;\">\n",
       "      <th></th>\n",
       "      <th>search_term</th>\n",
       "      <th>title</th>\n",
       "      <th>similarity_score</th>\n",
       "    </tr>\n",
       "  </thead>\n",
       "  <tbody>\n",
       "    <tr>\n",
       "      <th>0</th>\n",
       "      <td>Think Bayes: Bayesian Statistics in Python</td>\n",
       "      <td>妖怪料亭03</td>\n",
       "      <td>0.000000</td>\n",
       "    </tr>\n",
       "    <tr>\n",
       "      <th>1</th>\n",
       "      <td>Think Bayes: Bayesian Statistics in Python</td>\n",
       "      <td>黑蓮花攻略手冊 肆 (完)</td>\n",
       "      <td>0.072727</td>\n",
       "    </tr>\n",
       "    <tr>\n",
       "      <th>2</th>\n",
       "      <td>Think Bayes: Bayesian Statistics in Python</td>\n",
       "      <td>KSSR识字乐园（国文-英文-华文）</td>\n",
       "      <td>0.033333</td>\n",
       "    </tr>\n",
       "    <tr>\n",
       "      <th>3</th>\n",
       "      <td>Think Bayes: Bayesian Statistics in Python</td>\n",
       "      <td>Punk 57</td>\n",
       "      <td>0.122449</td>\n",
       "    </tr>\n",
       "    <tr>\n",
       "      <th>4</th>\n",
       "      <td>Think Bayes: Bayesian Statistics in Python</td>\n",
       "      <td>SILENCE AND SHADOW</td>\n",
       "      <td>0.100000</td>\n",
       "    </tr>\n",
       "  </tbody>\n",
       "</table>\n",
       "</div>"
      ],
      "text/plain": [
       "                                  search_term               title  \\\n",
       "0  Think Bayes: Bayesian Statistics in Python              妖怪料亭03   \n",
       "1  Think Bayes: Bayesian Statistics in Python       黑蓮花攻略手冊 肆 (完)   \n",
       "2  Think Bayes: Bayesian Statistics in Python  KSSR识字乐园（国文-英文-华文）   \n",
       "3  Think Bayes: Bayesian Statistics in Python             Punk 57   \n",
       "4  Think Bayes: Bayesian Statistics in Python  SILENCE AND SHADOW   \n",
       "\n",
       "   similarity_score  \n",
       "0          0.000000  \n",
       "1          0.072727  \n",
       "2          0.033333  \n",
       "3          0.122449  \n",
       "4          0.100000  "
      ]
     },
     "execution_count": 20,
     "metadata": {},
     "output_type": "execute_result"
    }
   ],
   "source": [
    "def similarity_score(a, b):\n",
    "    return SequenceMatcher(None, a, b).ratio()\n",
    "\n",
    "df['similarity_score'] = df.apply(lambda row: similarity_score(row['search_term'], row['title']), axis=1)\n",
    "df[['search_term', 'title', 'similarity_score']].head()"
   ]
  },
  {
   "cell_type": "code",
   "execution_count": 21,
   "metadata": {},
   "outputs": [],
   "source": [
    "# save the results to a new csv file\n",
    "df.to_csv('data/books_similarity.csv', index=False)"
   ]
  },
  {
   "cell_type": "code",
   "execution_count": null,
   "metadata": {},
   "outputs": [],
   "source": []
  }
 ],
 "metadata": {
  "kernelspec": {
   "display_name": "ptyon310",
   "language": "python",
   "name": "python3"
  },
  "language_info": {
   "codemirror_mode": {
    "name": "ipython",
    "version": 3
   },
   "file_extension": ".py",
   "mimetype": "text/x-python",
   "name": "python",
   "nbconvert_exporter": "python",
   "pygments_lexer": "ipython3",
   "version": "3.10.14"
  }
 },
 "nbformat": 4,
 "nbformat_minor": 2
}
